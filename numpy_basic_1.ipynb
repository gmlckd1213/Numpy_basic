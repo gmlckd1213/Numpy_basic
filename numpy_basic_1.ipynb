{
 "cells": [
  {
   "cell_type": "code",
   "execution_count": 1,
   "id": "9334b1fa",
   "metadata": {},
   "outputs": [],
   "source": [
    "from IPython.display import Image"
   ]
  },
  {
   "cell_type": "markdown",
   "id": "8f410f92",
   "metadata": {},
   "source": [
    "# NumPy?\n",
    "\n",
    "Numerical Python<br>\n",
    "\n",
    "Python에서 **대규모 다차원 배열**을 다룰 수 있게 도와주는 라이브러리<br>\n",
    "\n",
    "## Python list?\n",
    "\n",
    "파이썬 리스트에 비해, 빠른 연산을 지원하고 메모리르 효율적으로 사용<br>\n",
    "\n",
    "![nn](function.png)"
   ]
  },
  {
   "cell_type": "code",
   "execution_count": 2,
   "id": "3dd3d99f",
   "metadata": {},
   "outputs": [
    {
     "name": "stdout",
     "output_type": "stream",
     "text": [
      "[[3 0 2 3 0]\n",
      " [0 2 3 0 0]\n",
      " [3 1 4 1 4]]\n"
     ]
    }
   ],
   "source": [
    "# 0부터 5사이 랜덤한 값이 담긴 3x5 array를 만들어 보자.\n",
    "\n",
    "import numpy as np\n",
    "\n",
    "array = np.random.randint(0,5,(3,5))\n",
    "print(array)"
   ]
  },
  {
   "cell_type": "markdown",
   "id": "d9338a29",
   "metadata": {},
   "source": [
    "# Python List와 다르게 array 는 단일 타입으로 구성\n",
    "```python\n",
    "arr = np.array([1,2,3,4], dtype=float)\n",
    "arr  # array([1., 2., 3., 4.])\n",
    "arr.dtype  # dtype('float64')\n",
    "arr.astype(int) # array(1, 2, 3, 4])\n",
    "```"
   ]
  },
  {
   "cell_type": "markdown",
   "id": "47c7203c",
   "metadata": {},
   "source": [
    "## numpy 배열 기초"
   ]
  },
  {
   "cell_type": "code",
   "execution_count": 3,
   "id": "b7aafaa0",
   "metadata": {},
   "outputs": [
    {
     "data": {
      "text/plain": [
       "array([0, 0, 0, 0, 0, 0, 0, 0, 0, 0])"
      ]
     },
     "execution_count": 3,
     "metadata": {},
     "output_type": "execute_result"
    }
   ],
   "source": [
    "np.zeros(10, dtype=int) # 10크기의 0 삽입"
   ]
  },
  {
   "cell_type": "code",
   "execution_count": 4,
   "id": "89da5dd5",
   "metadata": {},
   "outputs": [
    {
     "data": {
      "text/plain": [
       "array([[1., 1., 1., 1., 1.],\n",
       "       [1., 1., 1., 1., 1.],\n",
       "       [1., 1., 1., 1., 1.]])"
      ]
     },
     "execution_count": 4,
     "metadata": {},
     "output_type": "execute_result"
    }
   ],
   "source": [
    "np.ones((3,5), dtype=float) # 3x5 크기의 float 형 1 삽입"
   ]
  },
  {
   "cell_type": "code",
   "execution_count": 6,
   "id": "d82e30f3",
   "metadata": {},
   "outputs": [
    {
     "data": {
      "text/plain": [
       "array([ 0,  2,  4,  6,  8, 10, 12, 14, 16, 18])"
      ]
     },
     "execution_count": 6,
     "metadata": {},
     "output_type": "execute_result"
    }
   ],
   "source": [
    "np.arange(0,20,2) # 간격이 2씩 "
   ]
  },
  {
   "cell_type": "code",
   "execution_count": 8,
   "id": "a539c452",
   "metadata": {},
   "outputs": [
    {
     "data": {
      "text/plain": [
       "array([0.  , 0.25, 0.5 , 0.75, 1.  ])"
      ]
     },
     "execution_count": 8,
     "metadata": {},
     "output_type": "execute_result"
    }
   ],
   "source": [
    "np.linspace(0,1,5) # 소수점 분해 5개로"
   ]
  },
  {
   "cell_type": "code",
   "execution_count": 13,
   "id": "7d525dc9",
   "metadata": {},
   "outputs": [
    {
     "name": "stdout",
     "output_type": "stream",
     "text": [
      "1차원 array\n",
      "[0 1 2 3 4 5 6 7 8 9]\n",
      "<class 'numpy.ndarray'>\n",
      "1\n",
      "(10,)\n",
      "10\n",
      "int64\n",
      "5\n",
      "[3 4 5]\n"
     ]
    }
   ],
   "source": [
    "import numpy as np\n",
    "\n",
    "print(\"1차원 array\")\n",
    "array = np.arange(10)\n",
    "print(array)\n",
    "\n",
    "# Q1. array의 자료형을 출력해보세요.\n",
    "print(type(array))\n",
    "\n",
    "# Q2. array의 차원을 출력해보세요.\n",
    "print(array.ndim)\n",
    "\n",
    "# Q3. array의 모양을 출력해보세요.\n",
    "print(array.shape)\n",
    "\n",
    "# Q4. array의 크기를 출력해보세요.\n",
    "print(array.size)\n",
    "\n",
    "# Q5. array의 dtype(data type)을 출력해보세요.\n",
    "print(array.dtype)\n",
    "\n",
    "# Q6. array의 인덱스 5의 요소를 출력해보세요.\n",
    "print(array[5])\n",
    "\n",
    "# Q7. array의 인덱스 3의 요소부터 인덱스 5 요소까지 출력해보세요.\n",
    "print(array[3:6])\n"
   ]
  },
  {
   "cell_type": "code",
   "execution_count": 14,
   "id": "6c96433c",
   "metadata": {},
   "outputs": [
    {
     "name": "stdout",
     "output_type": "stream",
     "text": [
      "2차원 array\n",
      "[[ 1  2  3  4  5]\n",
      " [ 6  7  8  9 10]\n",
      " [11 12 13 14 15]]\n",
      "<class 'numpy.ndarray'>\n",
      "2\n",
      "(3, 5)\n",
      "15\n",
      "int64\n",
      "14\n",
      "[[2 3 4]\n",
      " [7 8 9]]\n"
     ]
    }
   ],
   "source": [
    "import numpy as np\n",
    "\n",
    "print(\"2차원 array\")\n",
    "matrix = np.arange(1, 16).reshape(3,5)  #1부터 15까지 들어있는 (3,5)짜리 배열을 만듭니다.\n",
    "print(matrix)\n",
    "\n",
    "\n",
    "# Q1. matrix의 자료형을 출력해보세요.\n",
    "\n",
    "print(type(matrix))\n",
    "# Q2. matrix의 차원을 출력해보세요.\n",
    "print(matrix.ndim)\n",
    "\n",
    "# Q3. matrix의 모양을 출력해보세요.\n",
    "print(matrix.shape)\n",
    "\n",
    "# Q4. matrix의 크기를 출력해보세요.\n",
    "print(matrix.size)\n",
    "\n",
    "# Q5. matrix의 dtype(data type)을 출력해보세요.\n",
    "\n",
    "print(matrix.dtype)\n",
    "# Q6. matrix의 (2,3) 인덱스의 요소를 출력해보세요.\n",
    "print(matrix[2,3])\n",
    "\n",
    "# Q7. matrix의 행은 인덱스 0부터 인덱스 1까지, 열은 인덱스 1부터 인덱스 3까지 출력해보세요.\n",
    "print(matrix[0:2,1:4])\n",
    "\n"
   ]
  },
  {
   "cell_type": "code",
   "execution_count": null,
   "id": "4599218a",
   "metadata": {},
   "outputs": [],
   "source": []
  },
  {
   "cell_type": "code",
   "execution_count": null,
   "id": "f9022848",
   "metadata": {},
   "outputs": [],
   "source": []
  },
  {
   "cell_type": "code",
   "execution_count": null,
   "id": "24f0c6f2",
   "metadata": {},
   "outputs": [],
   "source": []
  },
  {
   "cell_type": "code",
   "execution_count": null,
   "id": "0490f921",
   "metadata": {},
   "outputs": [],
   "source": []
  },
  {
   "cell_type": "code",
   "execution_count": null,
   "id": "19ab1ade",
   "metadata": {},
   "outputs": [],
   "source": []
  },
  {
   "cell_type": "code",
   "execution_count": null,
   "id": "edec7ac4",
   "metadata": {},
   "outputs": [],
   "source": []
  },
  {
   "cell_type": "code",
   "execution_count": null,
   "id": "e24071a8",
   "metadata": {},
   "outputs": [],
   "source": []
  }
 ],
 "metadata": {
  "kernelspec": {
   "display_name": "Python 3 (ipykernel)",
   "language": "python",
   "name": "python3"
  },
  "language_info": {
   "codemirror_mode": {
    "name": "ipython",
    "version": 3
   },
   "file_extension": ".py",
   "mimetype": "text/x-python",
   "name": "python",
   "nbconvert_exporter": "python",
   "pygments_lexer": "ipython3",
   "version": "3.9.7"
  }
 },
 "nbformat": 4,
 "nbformat_minor": 5
}
