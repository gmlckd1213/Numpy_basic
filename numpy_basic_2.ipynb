{
 "cells": [
  {
   "cell_type": "markdown",
   "id": "6c5b8b2e",
   "metadata": {},
   "source": [
    "# 모양 바꾸기\n",
    "\n",
    "np.concatenate: axis 축 기준으로 1이면 가로 0이면 세로"
   ]
  },
  {
   "cell_type": "code",
   "execution_count": 2,
   "id": "8a2d6da8",
   "metadata": {},
   "outputs": [
    {
     "name": "stdout",
     "output_type": "stream",
     "text": [
      "matrix\n",
      "[[0 1 2 3]\n",
      " [4 5 6 7]]\n",
      "shape :  (2, 4) \n",
      "\n",
      "[[0 1 2 3]\n",
      " [4 5 6 7]\n",
      " [0 1 2 3]\n",
      " [4 5 6 7]]\n",
      "[[0 1 2 3 0 1 2 3]\n",
      " [4 5 6 7 4 5 6 7]]\n"
     ]
    }
   ],
   "source": [
    "import numpy as np\n",
    "\n",
    "print(\"matrix\")\n",
    "matrix = np.array([[0,1,2,3],\n",
    "                   [4,5,6,7]])\n",
    "print(matrix)\n",
    "print(\"shape : \", matrix.shape, \"\\n\")\n",
    "\n",
    "# (아래의 배열 모양을 참고하세요.)\n",
    "# Q1. matrix 두 개를 세로로 붙이기 \n",
    "m = np.concatenate([matrix, matrix], axis=0)\n",
    "print(m)\n",
    "# Q2. matrix 두 개를 가로로 붙이기 \n",
    "n = np.concatenate([matrix, matrix], axis=1)\n",
    "print(n)"
   ]
  },
  {
   "cell_type": "markdown",
   "id": "0ddc9ecc",
   "metadata": {},
   "source": [
    "np.split : axis 축을 기준으로 분할"
   ]
  },
  {
   "cell_type": "code",
   "execution_count": 4,
   "id": "29474b49",
   "metadata": {},
   "outputs": [
    {
     "name": "stdout",
     "output_type": "stream",
     "text": [
      "matrix\n",
      "[[ 0  1  2  3]\n",
      " [ 4  5  6  7]\n",
      " [ 8  9 10 11]\n",
      " [12 13 14 15]] \n",
      "\n",
      "[[ 0  1  2  3]\n",
      " [ 4  5  6  7]\n",
      " [ 8  9 10 11]] \n",
      "\n",
      "[[12 13 14 15]] \n",
      "\n",
      "[[ 0]\n",
      " [ 4]\n",
      " [ 8]\n",
      " [12]] \n",
      "\n",
      "[[ 1  2  3]\n",
      " [ 5  6  7]\n",
      " [ 9 10 11]\n",
      " [13 14 15]]\n"
     ]
    }
   ],
   "source": [
    "import numpy as np\n",
    "\n",
    "print(\"matrix\")\n",
    "matrix = np.array([[ 0, 1, 2, 3],\n",
    "                   [ 4, 5, 6, 7],\n",
    "                   [ 8, 9,10,11], \n",
    "                   [12,13,14,15]])\n",
    "print(matrix, \"\\n\")\n",
    "\n",
    "# Q1. matrix를 [3] 행에서 axis 0으로 나누기\n",
    "a, b = np.split(matrix, [3], axis=0)\n",
    "print(a, \"\\n\")\n",
    "print(b, \"\\n\")\n",
    "# Q2. matrix를 [1] 열에서 axis 1로 나누기\n",
    "c, d = np.split(matrix, [1], axis=1)\n",
    "print(c, \"\\n\")\n",
    "print(d)\n"
   ]
  },
  {
   "cell_type": "markdown",
   "id": "b2645a5a",
   "metadata": {},
   "source": [
    "# 루프는 느리다\n",
    "\n",
    "array의 크기가 크다면 함수적용시 느림."
   ]
  },
  {
   "cell_type": "code",
   "execution_count": 5,
   "id": "3673c7cc",
   "metadata": {},
   "outputs": [
    {
     "name": "stdout",
     "output_type": "stream",
     "text": [
      "[1 2 3 4 5]\n",
      "[ 6  7  8  9 10]\n",
      "[-4 -3 -2 -1  0]\n",
      "[ 5 10 15 20 25]\n",
      "[0.2 0.4 0.6 0.8 1. ]\n",
      "[6 6 6 6 6]\n",
      "[-4 -2  0  2  4]\n"
     ]
    }
   ],
   "source": [
    "import numpy as np\n",
    "\n",
    "array = np.array([1,2,3,4,5])\n",
    "print(array)\n",
    "\n",
    "# Q1. array에 5를 더한 값을 출력해보세요.\n",
    "print(array+5)\n",
    "# Q2. array에 5를 뺀 값을 출력해보세요.\n",
    "print(array-5)\n",
    "\n",
    "# Q3. array에 5를 곱한 값을 출력해보세요.\n",
    "print(array*5)\n",
    "\n",
    "# Q4. array를 5로 나눈 값을 출력해보세요.\n",
    "print(array/5)\n",
    "\n",
    "# Q5. array에 array2를 더한 값을 출력해보세요.    \n",
    "array2 = np.array([5,4,3,2,1])\n",
    "print(array+array2)\n",
    "\n",
    "# Q6. array에 array2를 뺀 값을 출력해보세요.\n",
    "print(array-array2)\n",
    "\n"
   ]
  },
  {
   "cell_type": "code",
   "execution_count": null,
   "id": "b268e643",
   "metadata": {},
   "outputs": [],
   "source": []
  },
  {
   "cell_type": "code",
   "execution_count": null,
   "id": "3fb88655",
   "metadata": {},
   "outputs": [],
   "source": []
  },
  {
   "cell_type": "code",
   "execution_count": null,
   "id": "26bce813",
   "metadata": {},
   "outputs": [],
   "source": []
  },
  {
   "cell_type": "code",
   "execution_count": null,
   "id": "804ee1f3",
   "metadata": {},
   "outputs": [],
   "source": []
  },
  {
   "cell_type": "code",
   "execution_count": null,
   "id": "6d9174e6",
   "metadata": {},
   "outputs": [],
   "source": []
  },
  {
   "cell_type": "code",
   "execution_count": null,
   "id": "d567c2d8",
   "metadata": {},
   "outputs": [],
   "source": []
  },
  {
   "cell_type": "code",
   "execution_count": null,
   "id": "3b195789",
   "metadata": {},
   "outputs": [],
   "source": []
  }
 ],
 "metadata": {
  "kernelspec": {
   "display_name": "Python 3 (ipykernel)",
   "language": "python",
   "name": "python3"
  },
  "language_info": {
   "codemirror_mode": {
    "name": "ipython",
    "version": 3
   },
   "file_extension": ".py",
   "mimetype": "text/x-python",
   "name": "python",
   "nbconvert_exporter": "python",
   "pygments_lexer": "ipython3",
   "version": "3.9.7"
  }
 },
 "nbformat": 4,
 "nbformat_minor": 5
}
