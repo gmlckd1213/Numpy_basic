{
 "cells": [
  {
   "cell_type": "markdown",
   "id": "ea4ed3c2",
   "metadata": {},
   "source": [
    "# 브로드캐스팅\n",
    "\n",
    "Broadcasting : shape이 다른 array끼리 연산"
   ]
  },
  {
   "cell_type": "code",
   "execution_count": 1,
   "id": "9372a050",
   "metadata": {},
   "outputs": [
    {
     "name": "stdout",
     "output_type": "stream",
     "text": [
      "[[ 0  1  2  3  4  5]\n",
      " [ 1  2  3  4  5  6]\n",
      " [ 2  3  4  5  6  7]\n",
      " [ 3  4  5  6  7  8]\n",
      " [ 4  5  6  7  8  9]\n",
      " [ 5  6  7  8  9 10]]\n"
     ]
    }
   ],
   "source": [
    "import numpy as np\n",
    "\n",
    "A=np.arange(6).reshape(6,1)\n",
    "B=np.arange(6).reshape(1,6)\n",
    "print(A+B)\n",
    "\n"
   ]
  },
  {
   "cell_type": "markdown",
   "id": "0e344ec6",
   "metadata": {},
   "source": [
    "# 집계 함수\n",
    "\n",
    "집계 : 데이터에 대한 요약 통계\n",
    "<br>"
   ]
  },
  {
   "cell_type": "code",
   "execution_count": 2,
   "id": "e08eda3f",
   "metadata": {},
   "outputs": [
    {
     "name": "stdout",
     "output_type": "stream",
     "text": [
      "[[0 1 2 3]\n",
      " [4 5 6 7]]\n",
      "28\n",
      "7\n",
      "0\n",
      "3.5\n",
      "[ 4  6  8 10]\n",
      "[ 6 22]\n",
      "2.29128784747792\n",
      "[0 1 2 3 4]\n"
     ]
    }
   ],
   "source": [
    "import numpy as np\n",
    "\n",
    "matrix = np.arange(8).reshape((2, 4))\n",
    "print(matrix)\n",
    "\n",
    "# Q1. sum 함수로 matrix의 총 합계를 구해 출력해보세요.\n",
    "\n",
    "print(np.sum(matrix))\n",
    "# Q2. max 함수로 matrix 중 최댓값을 구해 출력해보세요.\n",
    "print(np.max(matrix))\n",
    "\n",
    "# Q3. min 함수로 matrix 중 최솟값을 구해 출력해보세요.\n",
    "\n",
    "print(np.min(matrix))\n",
    "# Q4. mean 함수로 matrix의 평균값을 구해 출력해보세요.\n",
    "print(np.mean(matrix))\n",
    "\n",
    "# Q5. sum 함수의 axis 매개변수로 각 열의 합을 구해 출력해보세요.\n",
    "print(np.sum(matrix, axis=0))\n",
    "\n",
    "# Q6. sum 함수의 axis 매개변수로 각 행의 합을 구해 출력해보세요.\n",
    "print(np.sum(matrix, axis=1))\n",
    "\n",
    "\n",
    "# Q7. std 함수로 matrix의 표준편차를 구해 출력해보세요.\n",
    "print(np.std(matrix))\n",
    "\n",
    "# Q8. 마스킹 연산을 이용하여 matrix 중 5보다 작은 수들만 추출하여 출력해보세요.\n",
    "print(matrix[matrix<5])"
   ]
  },
  {
   "cell_type": "markdown",
   "id": "b9f9b7d4",
   "metadata": {},
   "source": [
    "\n",
    "# 마스킹 연산\n",
    "\n",
    "마스킹 연산 : True, False array를 통해서 특정 값들을 뽑아내는 방법"
   ]
  },
  {
   "cell_type": "code",
   "execution_count": 3,
   "id": "dc577d10",
   "metadata": {},
   "outputs": [
    {
     "name": "stdout",
     "output_type": "stream",
     "text": [
      "[0 1 2 3 4]\n",
      "[ True  True  True False False]\n",
      "[False False False False False]\n",
      "[0 1 2]\n"
     ]
    }
   ],
   "source": [
    "x = np.arange(5)\n",
    "print(x)\n",
    "\n",
    "print(x<3)\n",
    "\n",
    "print(x>5)\n",
    "\n",
    "print(x[x<3])"
   ]
  },
  {
   "cell_type": "code",
   "execution_count": 4,
   "id": "14a5999c",
   "metadata": {},
   "outputs": [
    {
     "name": "stdout",
     "output_type": "stream",
     "text": [
      "71\n"
     ]
    }
   ],
   "source": [
    "\n",
    "import numpy as np\n",
    "\n",
    "daily_liar_data = [0, 0, 0, 0, 0, 1, 1, 0, 1, 1, 0, 0, 0, 1, 0, 0, 1, 0, 0, 1, 0, 0, 0, 1, 0, 0, 0, 0, 0, 1, 0, 0, 0, 1, 0, 0, 0, 0, 0, 0, 0, 0, 0, 0, 1, 1, 0, 1, 1, 0, 0, 0, 0, 0, 1, 0, 1, 0, 0, 1, 0, 1, 0, 0, 1, 0, 0, 0, 0, 0, 1, 0, 1, 0, 1, 1, 0, 0, 0, 1, 0, 0, 0, 1, 0, 0, 1, 0, 0, 1, 0, 1, 0, 0, 1, 0, 0, 0, 0, 0]\n",
    "\n",
    "\n",
    "# 양치기 소년이 거짓말을 몇 번 했는지 구하여 출력해주세요.\n",
    "\n",
    "def main():\n",
    "    liar_array = np.array(daily_liar_data)\n",
    "    \n",
    "    print(len(liar_array[liar_array == 0]))\n",
    "\n",
    "if __name__ == \"__main__\":\n",
    "    main()"
   ]
  },
  {
   "cell_type": "code",
   "execution_count": null,
   "id": "326b2932",
   "metadata": {},
   "outputs": [],
   "source": []
  }
 ],
 "metadata": {
  "kernelspec": {
   "display_name": "Python 3 (ipykernel)",
   "language": "python",
   "name": "python3"
  },
  "language_info": {
   "codemirror_mode": {
    "name": "ipython",
    "version": 3
   },
   "file_extension": ".py",
   "mimetype": "text/x-python",
   "name": "python",
   "nbconvert_exporter": "python",
   "pygments_lexer": "ipython3",
   "version": "3.9.7"
  }
 },
 "nbformat": 4,
 "nbformat_minor": 5
}
